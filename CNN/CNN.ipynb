{
 "cells": [
  {
   "cell_type": "code",
   "execution_count": 1,
   "id": "e6896ef6",
   "metadata": {},
   "outputs": [],
   "source": [
    "#import model building libraries\n",
    "from tensorflow.keras.models import Sequential\n",
    "from tensorflow.keras.layers import Dense\n",
    "from tensorflow.keras.layers import Convolution2D\n",
    "from tensorflow.keras.layers import MaxPooling2D\n",
    "from tensorflow.keras.layers import Flatten"
   ]
  },
  {
   "cell_type": "markdown",
   "id": "c027518b",
   "metadata": {},
   "source": [
    "Download the dataset from\n",
    "https://www.kaggle.com/datasets/saumyamohandas/animal-dataset"
   ]
  },
  {
   "cell_type": "markdown",
   "id": "d00274a0",
   "metadata": {},
   "source": [
    "## Image preprocessing"
   ]
  },
  {
   "cell_type": "code",
   "execution_count": 2,
   "id": "7e4b0d5b",
   "metadata": {},
   "outputs": [],
   "source": [
    "from keras.preprocessing.image import ImageDataGenerator"
   ]
  },
  {
   "cell_type": "code",
   "execution_count": 3,
   "id": "27845e2b",
   "metadata": {},
   "outputs": [],
   "source": [
    "#2.configure image data generator\n",
    "train_datagen=ImageDataGenerator(rescale=1./255,shear_range=0.2,zoom_range=0.2,horizontal_flip=True)\n",
    "test_datagen=ImageDataGenerator(rescale=1./255)"
   ]
  },
  {
   "cell_type": "code",
   "execution_count": 4,
   "id": "23f492c2",
   "metadata": {},
   "outputs": [
    {
     "name": "stdout",
     "output_type": "stream",
     "text": [
      "Found 1238 images belonging to 4 classes.\n"
     ]
    },
    {
     "name": "stdout",
     "output_type": "stream",
     "text": [
      "Found 326 images belonging to 4 classes.\n"
     ]
    }
   ],
   "source": [
    "#3.Apply image data generator functionality to train and test images\n",
    "x_train=train_datagen.flow_from_directory(r'dataset\\Training',target_size=(64,64),batch_size=32,class_mode=\"categorical\")\n",
    "x_test = test_datagen.flow_from_directory(r'dataset\\Testing',target_size = (64,64),batch_size = 32 , class_mode = 'categorical')"
   ]
  },
  {
   "cell_type": "code",
   "execution_count": 5,
   "id": "479beae8",
   "metadata": {},
   "outputs": [
    {
     "name": "stdout",
     "output_type": "stream",
     "text": [
      "{'bears': 0, 'crows': 1, 'elephants': 2, 'rats': 3}\n"
     ]
    }
   ],
   "source": [
    "print(x_train.class_indices)"
   ]
  },
  {
   "cell_type": "markdown",
   "id": "5ddd209a",
   "metadata": {},
   "source": [
    "# Model Building"
   ]
  },
  {
   "cell_type": "code",
   "execution_count": 6,
   "id": "5ac4ff9a",
   "metadata": {},
   "outputs": [],
   "source": [
    "#2.initializing the model\n",
    "model=Sequential()"
   ]
  },
  {
   "cell_type": "code",
   "execution_count": 7,
   "id": "47ebc5da",
   "metadata": {},
   "outputs": [],
   "source": [
    "#3.add convolution layer(no.of filters,size of filter,input shape)\n",
    "model.add(Convolution2D(32,(3,3),input_shape=(64,64,3),activation=\"relu\"))"
   ]
  },
  {
   "cell_type": "code",
   "execution_count": 8,
   "id": "d434e4be",
   "metadata": {},
   "outputs": [],
   "source": [
    "#add max pool layer(pool_size)\n",
    "model.add(MaxPooling2D(pool_size=(2,2)))"
   ]
  },
  {
   "cell_type": "code",
   "execution_count": 9,
   "id": "debdaf0c",
   "metadata": {},
   "outputs": [],
   "source": [
    "#add flatten layer  ---input of ann\n",
    "model.add(Flatten())"
   ]
  },
  {
   "cell_type": "code",
   "execution_count": 10,
   "id": "3cfe76cb",
   "metadata": {},
   "outputs": [],
   "source": [
    "#ann hidden layer\n",
    "model.add(Dense(units=128,activation=\"relu\"))"
   ]
  },
  {
   "cell_type": "code",
   "execution_count": 11,
   "id": "41aec0c2",
   "metadata": {},
   "outputs": [],
   "source": [
    "#add output layer\n",
    "model.add(Dense(units=4,activation=\"softmax\"))"
   ]
  },
  {
   "cell_type": "code",
   "execution_count": 12,
   "id": "b0ea59a7",
   "metadata": {},
   "outputs": [],
   "source": [
    "#Compile the model (loss fucntion,accuracy,optimizer)\n",
    "model.compile(loss=\"categorical_crossentropy\",optimizer=\"adam\",metrics=\"accuracy\")"
   ]
  },
  {
   "cell_type": "code",
   "execution_count": 13,
   "id": "efbcc2ed",
   "metadata": {},
   "outputs": [
    {
     "name": "stdout",
     "output_type": "stream",
     "text": [
      "Epoch 1/5\n",
      "39/39 [==============================] - 28s 695ms/step - loss: 1.4158 - accuracy: 0.4184 - val_loss: 1.1041 - val_accuracy: 0.5344\n",
      "Epoch 2/5\n",
      "39/39 [==============================] - 5s 137ms/step - loss: 0.9727 - accuracy: 0.6131 - val_loss: 0.8302 - val_accuracy: 0.6719\n",
      "Epoch 3/5\n",
      "39/39 [==============================] - 5s 130ms/step - loss: 0.7941 - accuracy: 0.6939 - val_loss: 0.7502 - val_accuracy: 0.6969\n",
      "Epoch 4/5\n",
      "39/39 [==============================] - 5s 137ms/step - loss: 0.7239 - accuracy: 0.7262 - val_loss: 0.5437 - val_accuracy: 0.8062\n",
      "Epoch 5/5\n",
      "39/39 [==============================] - 5s 136ms/step - loss: 0.6897 - accuracy: 0.7326 - val_loss: 0.6422 - val_accuracy: 0.7750\n"
     ]
    },
    {
     "data": {
      "text/plain": [
       "<keras.src.callbacks.History at 0x1ff99f02740>"
      ]
     },
     "execution_count": 13,
     "metadata": {},
     "output_type": "execute_result"
    }
   ],
   "source": [
    "#fit model (x_train,steps_per epoch,epochs,validation_data,validation_steps)\n",
    "model.fit(x_train,steps_per_epoch=39,epochs=5,validation_data=x_test,validation_steps=10)"
   ]
  },
  {
   "cell_type": "code",
   "execution_count": 14,
   "id": "e4d5b60b",
   "metadata": {},
   "outputs": [
    {
     "name": "stdout",
     "output_type": "stream",
     "text": [
      "Model: \"sequential\"\n",
      "_________________________________________________________________\n",
      " Layer (type)                Output Shape              Param #   \n",
      "=================================================================\n",
      " conv2d (Conv2D)             (None, 62, 62, 32)        896       \n",
      "                                                                 \n",
      " max_pooling2d (MaxPooling2  (None, 31, 31, 32)        0         \n",
      " D)                                                              \n",
      "                                                                 \n",
      " flatten (Flatten)           (None, 30752)             0         \n",
      "                                                                 \n",
      " dense (Dense)               (None, 128)               3936384   \n",
      "                                                                 \n",
      " dense_1 (Dense)             (None, 4)                 516       \n",
      "                                                                 \n",
      "=================================================================\n",
      "Total params: 3937796 (15.02 MB)\n",
      "Trainable params: 3937796 (15.02 MB)\n",
      "Non-trainable params: 0 (0.00 Byte)\n",
      "_________________________________________________________________\n"
     ]
    }
   ],
   "source": [
    "model.summary()"
   ]
  },
  {
   "cell_type": "code",
   "execution_count": 15,
   "id": "391f401f",
   "metadata": {},
   "outputs": [
    {
     "name": "stderr",
     "output_type": "stream",
     "text": [
      "C:\\Users\\Administrator\\AppData\\Roaming\\Python\\Python310\\site-packages\\keras\\src\\engine\\training.py:3000: UserWarning: You are saving your model as an HDF5 file via `model.save()`. This file format is considered legacy. We recommend using instead the native Keras format, e.g. `model.save('my_model.keras')`.\n",
      "  saving_api.save_model(\n"
     ]
    }
   ],
   "source": [
    "#save our model\n",
    "model.save(\"animal.h5\")"
   ]
  },
  {
   "cell_type": "markdown",
   "id": "0c48b67f",
   "metadata": {},
   "source": [
    "## Test the model"
   ]
  },
  {
   "cell_type": "code",
   "execution_count": 16,
   "id": "78a44819",
   "metadata": {},
   "outputs": [],
   "source": [
    "from tensorflow.keras.models import load_model\n",
    "from tensorflow.keras.preprocessing import image\n",
    "import numpy as np"
   ]
  },
  {
   "cell_type": "code",
   "execution_count": 17,
   "id": "5666e5d9",
   "metadata": {},
   "outputs": [],
   "source": [
    "import tensorflow as tf"
   ]
  },
  {
   "cell_type": "code",
   "execution_count": 18,
   "id": "a51fc1e7",
   "metadata": {},
   "outputs": [],
   "source": [
    "model=tf.keras.models.load_model(r\"animal.h5\",compile=False)"
   ]
  },
  {
   "cell_type": "code",
   "execution_count": 19,
   "id": "00f5000f",
   "metadata": {},
   "outputs": [],
   "source": [
    "#D:\\SmartBridge\\VIT_morning_slot\\dataset\\Testing\\elephants\\nature_3306013__340.jpg\n",
    "img=image.load_img(r\"D:\\SmartbridgeAIML\\dataset\\Testing\\elephants\\lionesses_644822__340.jpg\",target_size=(64,64))"
   ]
  },
  {
   "cell_type": "code",
   "execution_count": 20,
   "id": "0e3bce33",
   "metadata": {},
   "outputs": [
    {
     "data": {
      "image/png": "[encoded data removed]",
      "text/plain": [
       "<PIL.Image.Image image mode=RGB size=64x64>"
      ]
     },
     "execution_count": 20,
     "metadata": {},
     "output_type": "execute_result"
    }
   ],
   "source": [
    "img"
   ]
  },
  {
   "cell_type": "code",
   "execution_count": 21,
   "id": "989c7614",
   "metadata": {},
   "outputs": [],
   "source": [
    "x=image.img_to_array(img)"
   ]
  },
  {
   "cell_type": "code",
   "execution_count": 22,
   "id": "37c4ff0e",
   "metadata": {},
   "outputs": [
    {
     "data": {
      "text/plain": [
       "array([[[110., 105.,  99.],\n",
       "        [112., 107., 101.],\n",
       "        [121., 114., 108.],\n",
       "        ...,\n",
       "        [ 49.,  45.,  42.],\n",
       "        [ 50.,  49.,  47.],\n",
       "        [ 48.,  47.,  45.]],\n",
       "\n",
       "       [[115., 110., 104.],\n",
       "        [121., 116., 110.],\n",
       "        [124., 117., 111.],\n",
       "        ...,\n",
       "        [ 49.,  45.,  42.],\n",
       "        [ 47.,  46.,  44.],\n",
       "        [ 45.,  44.,  42.]],\n",
       "\n",
       "       [[127., 120., 112.],\n",
       "        [131., 124., 116.],\n",
       "        [134., 125., 118.],\n",
       "        ...,\n",
       "        [ 52.,  48.,  45.],\n",
       "        [ 51.,  50.,  48.],\n",
       "        [ 58.,  57.,  55.]],\n",
       "\n",
       "       ...,\n",
       "\n",
       "       [[ 54.,  47.,  41.],\n",
       "        [ 88.,  83.,  79.],\n",
       "        [115., 112., 107.],\n",
       "        ...,\n",
       "        [ 78.,  77.,  75.],\n",
       "        [ 12.,  11.,   9.],\n",
       "        [ 55.,  54.,  52.]],\n",
       "\n",
       "       [[ 48.,  47.,  43.],\n",
       "        [ 31.,  30.,  26.],\n",
       "        [ 56.,  51.,  45.],\n",
       "        ...,\n",
       "        [ 74.,  73.,  71.],\n",
       "        [  5.,   1.,   0.],\n",
       "        [101.,  97.,  94.]],\n",
       "\n",
       "       [[ 33.,  29.,  26.],\n",
       "        [ 53.,  49.,  46.],\n",
       "        [149., 140., 131.],\n",
       "        ...,\n",
       "        [113., 108., 104.],\n",
       "        [ 80.,  76.,  73.],\n",
       "        [112., 107., 103.]]], dtype=float32)"
      ]
     },
     "execution_count": 22,
     "metadata": {},
     "output_type": "execute_result"
    }
   ],
   "source": [
    "x"
   ]
  },
  {
   "cell_type": "code",
   "execution_count": 23,
   "id": "bcae05ad",
   "metadata": {},
   "outputs": [],
   "source": [
    "x=np.expand_dims(x,axis=0)"
   ]
  },
  {
   "cell_type": "code",
   "execution_count": 24,
   "id": "433811c5",
   "metadata": {},
   "outputs": [
    {
     "data": {
      "text/plain": [
       "4"
      ]
     },
     "execution_count": 24,
     "metadata": {},
     "output_type": "execute_result"
    }
   ],
   "source": [
    "x.ndim"
   ]
  },
  {
   "cell_type": "code",
   "execution_count": 25,
   "id": "b71d214f",
   "metadata": {},
   "outputs": [
    {
     "data": {
      "text/plain": [
       "(1, 64, 64, 3)"
      ]
     },
     "execution_count": 25,
     "metadata": {},
     "output_type": "execute_result"
    }
   ],
   "source": [
    "x.shape"
   ]
  },
  {
   "cell_type": "code",
   "execution_count": 26,
   "id": "83f44e1f",
   "metadata": {},
   "outputs": [
    {
     "name": "stdout",
     "output_type": "stream",
     "text": [
      "1/1 [==============================] - 0s 107ms/step\n"
     ]
    }
   ],
   "source": [
    "pred=model.predict(x)"
   ]
  },
  {
   "cell_type": "code",
   "execution_count": 27,
   "id": "75a649bd",
   "metadata": {},
   "outputs": [
    {
     "name": "stdout",
     "output_type": "stream",
     "text": [
      "[[0.0000000e+00 9.9979693e-01 2.0306034e-04 0.0000000e+00]]\n"
     ]
    }
   ],
   "source": [
    "print(pred)"
   ]
  }
 ],
 "metadata": {
  "kernelspec": {
   "display_name": "Python 3 (ipykernel)",
   "language": "python",
   "name": "python3"
  },
  "language_info": {
   "codemirror_mode": {
    "name": "ipython",
    "version": 3
   },
   "file_extension": ".py",
   "mimetype": "text/x-python",
   "name": "python",
   "nbconvert_exporter": "python",
   "pygments_lexer": "ipython3",
   "version": "3.10.5"
  }
 },
 "nbformat": 4,
 "nbformat_minor": 5
}
